{
 "cells": [
  {
   "cell_type": "markdown",
   "metadata": {},
   "source": [
    "# Annotating Data with d3.annotation(), Susie Lu\n",
    "\n",
    "- April 11, 2017\n",
    "- Twitter: @DataToViz\n",
    "- \n",
    "\n",
    "## [d3.annotation('Susie Lu')](http://d3-annotation.susielu.com/)\n",
    "\n",
    "![alt text](img/susielu.jpeg)\n",
    "\n",
    "In April, Susie Lu will be our special guest. As she says, \"annotations establish context, and direct our users to insights and anomalies....implementing them is difficult\".  Susie will present d3.annotation(), her latest library to create attractive and interactive annotations. \n",
    "\n",
    "Susie Lu\n",
    "\n",
    "Last year Susie Lu, a Senior Data Visualization Engineer at Netflix, created d3.legend() to ease the pain and rigamarole of creating legends with d3. "
   ]
  },
  {
   "cell_type": "markdown",
   "metadata": {},
   "source": [
    "- Goal\n",
    "    - Annotation Modes\n",
    "    - Annotation Designs\n",
    "- Library Intro\n",
    "    - Anatomy\n",
    "        - Note\n",
    "        - Connector\n",
    "        - Subject\n",
    "    - Positioning\n",
    "        - Position: x, y\n",
    "        - Offsets: dx, dy\n",
    "        - Annotation JSON attributes\n",
    "    - d3.annotationLabel\n",
    "        - editMode\n",
    "        - swoopy\n",
    "    - d3. annotationCalloutCircle\n",
    "- Annotation Design\n",
    "    - Threholds\n",
    "    - Points of Interest\n",
    "- Responsive Design\n",
    "- Annotation vs Data Visualization\n",
    "    - via Making Annoation First-Class Citizens in Data Visualization, Elijah Meeks\n",
    "- Annotation Design: What other forms of annotation design can you think of?\n",
    "- Annotation Modes\n",
    "    - Here's my visualization\n",
    "    - Here are some interesting points\n",
    "        - Anomalies, etc\n",
    "    - Examples\n",
    "        - Diagrams\n",
    "        - Schematics\n",
    "    - Markup:\n",
    "        1. Revision, Critique\n",
    "        2. Context-setting\n",
    "    - Proofreader Marks\n",
    "    - Context-setting\n",
    "    - Groupong, Layout via One Dataset Visualized 25 Ways, Nathan Yau\n",
    "    - Story-Finding\n",
    "        - makeAnnotations.json() => Creates JSON & copies to clipboard"
   ]
  },
  {
   "cell_type": "markdown",
   "metadata": {},
   "source": [
    "## Member Demos\n",
    "\n",
    "- Click bait\n",
    "- Nadiah\n",
    "    - Translation visualization\n",
    "    - [SVG Cubic Bezier Curve Example](http://blogs.sitepointstatic.com/examples/tech/svg-curves/cubic-curve.html)\n",
    "    - [SVG Path Tutorial](http://www.bing.com/search?q=svg%20path%20tutorial&qs=n&form=QBRE&sp=-1&pq=svg%20path%20tutorial&sc=2-17&sk=&cvid=EEB63B4EC184481F8FE32F46C6A5D8B3)\n",
    "- DataSketch.es\n",
    "    - Shirley: 95% ReactJS => If more than 2 components\n",
    "    - Nadiah: 0% ReactJS => 100% Vanilla JS\n",
    "    - Susie: Mostly ReactJS\n",
    "- Mic Audio Waterfall Sonograph\n",
    "- Kristin Henry, Dangerous Artists, @kristinhenry\n",
    "- NuvaAI: [r2d3.us](http://www.r2d3.us/visual-intro-to-machine-learning-part-1/)\n",
    "- https://bl.ocks.org/kenpenn\n",
    "- Jana Beck [Codepen](http://codepen.io/jebeck/)\n",
    "    - Codepen: React Motion"
   ]
  },
  {
   "cell_type": "code",
   "execution_count": null,
   "metadata": {
    "collapsed": true
   },
   "outputs": [],
   "source": [
    "\n"
   ]
  }
 ],
 "metadata": {
  "kernelspec": {
   "display_name": "Python 3",
   "language": "python",
   "name": "python3"
  },
  "language_info": {
   "codemirror_mode": {
    "name": "ipython",
    "version": 3
   },
   "file_extension": ".py",
   "mimetype": "text/x-python",
   "name": "python",
   "nbconvert_exporter": "python",
   "pygments_lexer": "ipython3",
   "version": "3.6.0"
  }
 },
 "nbformat": 4,
 "nbformat_minor": 2
}
